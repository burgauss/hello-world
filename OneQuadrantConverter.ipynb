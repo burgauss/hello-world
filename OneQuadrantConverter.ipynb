{
  "nbformat": 4,
  "nbformat_minor": 0,
  "metadata": {
    "colab": {
      "name": "OneQuadrantConverter.ipynb",
      "provenance": [],
      "collapsed_sections": [],
      "authorship_tag": "ABX9TyMHIeq0P6RYExfwonpZGv4G",
      "include_colab_link": true
    },
    "kernelspec": {
      "name": "python3",
      "display_name": "Python 3"
    }
  },
  "cells": [
    {
      "cell_type": "markdown",
      "metadata": {
        "id": "view-in-github",
        "colab_type": "text"
      },
      "source": [
        "<a href=\"https://colab.research.google.com/github/burgauss/hello-world/blob/main/OneQuadrantConverter.ipynb\" target=\"_parent\"><img src=\"https://colab.research.google.com/assets/colab-badge.svg\" alt=\"Open In Colab\"/></a>"
      ]
    },
    {
      "cell_type": "code",
      "metadata": {
        "id": "cEz0vfO--kw8"
      },
      "source": [
        "pip install tf-agents"
      ],
      "execution_count": null,
      "outputs": []
    },
    {
      "cell_type": "code",
      "metadata": {
        "id": "pqwGwYXR3cZN"
      },
      "source": [
        "import ipdb"
      ],
      "execution_count": 44,
      "outputs": []
    },
    {
      "cell_type": "code",
      "metadata": {
        "id": "V7ok3mfM_6DX"
      },
      "source": [
        "from __future__ import absolute_import\n",
        "from __future__ import division\n",
        "from __future__ import print_function\n",
        "\n",
        "import tensorflow as tf\n",
        "import numpy as np\n",
        "\n",
        "from tf_agents.environments import py_environment\n",
        "from tf_agents.environments import tf_environment\n",
        "from tf_agents.environments import tf_py_environment\n",
        "from tf_agents.environments import utils\n",
        "from tf_agents.specs import array_spec\n",
        "from tf_agents.environments import wrappers\n",
        "from tf_agents.environments import wrappers\n",
        "from tf_agents.trajectories import time_step as ts"
      ],
      "execution_count": 2,
      "outputs": []
    },
    {
      "cell_type": "code",
      "metadata": {
        "id": "ptkgIjtfL5ZR"
      },
      "source": [
        "#creation of the pwm function\n",
        "def pwm(timeseries, ontime, offtime):\n",
        "  accum = 0.0\n",
        "  flag  = 1.0\n",
        "  y = np.zeros(timeseries.shape, dtype = np.float32)\n",
        "  #ipdb.set_trace()\n",
        "  for i in np.arange(timeseries.size):\n",
        "    if (i == 0 ):\n",
        "      accum = timeseries[0]\n",
        "    else:\n",
        "      accum = accum + timeseries[i.astype(int)] - timeseries[i.astype(int)-1]\n",
        "    \n",
        "    if (flag == 1):\n",
        "      y[i.astype(int)] = 1\n",
        "      if (accum >= ontime):\n",
        "        flag = 0\n",
        "        accum = 0\n",
        "\n",
        "    elif (flag == 0):\n",
        "      y[i.astype(int)] = 0\n",
        "      if (accum >= offtime):\n",
        "        flag = 1\n",
        "        accum = 0\n",
        "  \n",
        "  return y"
      ],
      "execution_count": 58,
      "outputs": []
    },
    {
      "cell_type": "code",
      "metadata": {
        "id": "nc5reMIaAjNg"
      },
      "source": [
        "class OneQuadrant(py_environment.PyEnvironment):\n",
        "  def __init__(self):\n",
        "    self._action_spec = array_spec.BoundedArraySpec(\n",
        "        shape=(), dtype=np.int32, minimum = 0, maximum = 1, name='action'\n",
        "    )\n",
        "    self._observation_spec = array_spec.BoundedArraySpec(\n",
        "        shape=(1,), dtype=np.float32, minimun = 0, name = 'observation'\n",
        "    )\n",
        "    self._state = 0\n",
        "    self._episode_ended = False\n",
        "\n",
        "  def action_spec(self):\n",
        "    return self._action_spec\n",
        "\n",
        "  def observation_spec(self):\n",
        "    return self._observation_spec\n",
        "\n",
        "  def _reset(self):\n",
        "    self._state = 0\n",
        "    self._episode_ended = False\n",
        "    return ts.restart(np.array([self._state], dtype = np.float32))\n",
        "\n",
        "  def _step(self, action):\n",
        "    return self.reset()\n",
        "\n",
        "    #make sure episodes don't go foverer\n",
        "  if action == 1:\n",
        "    self._episode_ended = True\n",
        "  elif action == 0:\n",
        "    "
      ],
      "execution_count": null,
      "outputs": []
    },
    {
      "cell_type": "code",
      "metadata": {
        "colab": {
          "base_uri": "https://localhost:8080/"
        },
        "id": "KIWCteNFP14c",
        "outputId": "6cbf782d-25d4-482f-e68f-028b08191692"
      },
      "source": [
        "t = np.linspace(0,3,100, dtype=np.float32)\n",
        "on = 0.05\n",
        "off = 0.2\n",
        "new_val = pwm(t,on,off)\n",
        "print(new_val)"
      ],
      "execution_count": 62,
      "outputs": [
        {
          "output_type": "stream",
          "text": [
            "[1. 1. 1. 0. 0. 0. 0. 0. 0. 0. 1. 1. 0. 0. 0. 0. 0. 0. 0. 1. 1. 0. 0. 0.\n",
            " 0. 0. 0. 0. 1. 1. 0. 0. 0. 0. 0. 0. 0. 1. 1. 0. 0. 0. 0. 0. 0. 0. 1. 1.\n",
            " 0. 0. 0. 0. 0. 0. 0. 1. 1. 0. 0. 0. 0. 0. 0. 0. 1. 1. 0. 0. 0. 0. 0. 0.\n",
            " 0. 1. 1. 0. 0. 0. 0. 0. 0. 0. 1. 1. 0. 0. 0. 0. 0. 0. 0. 1. 1. 0. 0. 0.\n",
            " 0. 0. 0. 0.]\n"
          ],
          "name": "stdout"
        }
      ]
    }
  ]
}